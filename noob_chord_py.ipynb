{
 "cells": [
  {
   "attachments": {},
   "cell_type": "markdown",
   "metadata": {},
   "source": [
    "### Chord diagram using the Chord library (https://python-graph-gallery.com/chord-diagram-python-chord/)\n",
    "\n",
    "TLDR: requires license but we can use d3blocks"
   ]
  },
  {
   "cell_type": "code",
   "execution_count": 13,
   "metadata": {},
   "outputs": [],
   "source": [
    "from CONWAY_table_data import evo_table\n",
    "import numpy as np\n",
    "import pandas as pd\n"
   ]
  },
  {
   "cell_type": "code",
   "execution_count": 14,
   "metadata": {},
   "outputs": [],
   "source": [
    "evo_mapping_dict = {row[1]: row[2].split() for row in evo_table}\n",
    "column_names = ['atomic_num', 'element',\n",
    "                'evolution', 'string', 'string_evolution']\n",
    "df = pd.DataFrame(evo_table, columns=column_names)\n"
   ]
  },
  {
   "cell_type": "code",
   "execution_count": 15,
   "metadata": {},
   "outputs": [
    {
     "data": {
      "text/html": [
       "<div>\n",
       "<style scoped>\n",
       "    .dataframe tbody tr th:only-of-type {\n",
       "        vertical-align: middle;\n",
       "    }\n",
       "\n",
       "    .dataframe tbody tr th {\n",
       "        vertical-align: top;\n",
       "    }\n",
       "\n",
       "    .dataframe thead th {\n",
       "        text-align: right;\n",
       "    }\n",
       "</style>\n",
       "<table border=\"1\" class=\"dataframe\">\n",
       "  <thead>\n",
       "    <tr style=\"text-align: right;\">\n",
       "      <th></th>\n",
       "      <th>atomic_num</th>\n",
       "      <th>element</th>\n",
       "      <th>evolution</th>\n",
       "      <th>string</th>\n",
       "      <th>string_evolution</th>\n",
       "    </tr>\n",
       "  </thead>\n",
       "  <tbody>\n",
       "    <tr>\n",
       "      <th>0</th>\n",
       "      <td>1</td>\n",
       "      <td>H</td>\n",
       "      <td>H</td>\n",
       "      <td>22</td>\n",
       "      <td>22</td>\n",
       "    </tr>\n",
       "    <tr>\n",
       "      <th>1</th>\n",
       "      <td>2</td>\n",
       "      <td>He</td>\n",
       "      <td>Hf Pa H Ca Li</td>\n",
       "      <td>13112221133211322112211213322112</td>\n",
       "      <td>11132132212312211322212221121123222112</td>\n",
       "    </tr>\n",
       "    <tr>\n",
       "      <th>2</th>\n",
       "      <td>3</td>\n",
       "      <td>Li</td>\n",
       "      <td>He</td>\n",
       "      <td>312211322212221121123222112</td>\n",
       "      <td>13112221133211322112211213322112</td>\n",
       "    </tr>\n",
       "    <tr>\n",
       "      <th>3</th>\n",
       "      <td>4</td>\n",
       "      <td>Be</td>\n",
       "      <td>Ge Ca Li</td>\n",
       "      <td>111312211312113221133211322112211213322112</td>\n",
       "      <td>3113112221131112211322212312211322212221121123...</td>\n",
       "    </tr>\n",
       "    <tr>\n",
       "      <th>4</th>\n",
       "      <td>5</td>\n",
       "      <td>B</td>\n",
       "      <td>Be</td>\n",
       "      <td>1321132122211322212221121123222112</td>\n",
       "      <td>111312211312113221133211322112211213322112</td>\n",
       "    </tr>\n",
       "  </tbody>\n",
       "</table>\n",
       "</div>"
      ],
      "text/plain": [
       "   atomic_num element      evolution  \\\n",
       "0           1       H              H   \n",
       "1           2      He  Hf Pa H Ca Li   \n",
       "2           3      Li             He   \n",
       "3           4      Be       Ge Ca Li   \n",
       "4           5       B             Be   \n",
       "\n",
       "                                       string  \\\n",
       "0                                          22   \n",
       "1            13112221133211322112211213322112   \n",
       "2                 312211322212221121123222112   \n",
       "3  111312211312113221133211322112211213322112   \n",
       "4          1321132122211322212221121123222112   \n",
       "\n",
       "                                    string_evolution  \n",
       "0                                                 22  \n",
       "1             11132132212312211322212221121123222112  \n",
       "2                   13112221133211322112211213322112  \n",
       "3  3113112221131112211322212312211322212221121123...  \n",
       "4         111312211312113221133211322112211213322112  "
      ]
     },
     "execution_count": 15,
     "metadata": {},
     "output_type": "execute_result"
    }
   ],
   "source": [
    "df.head()"
   ]
  },
  {
   "cell_type": "code",
   "execution_count": 16,
   "metadata": {},
   "outputs": [
    {
     "data": {
      "text/plain": [
       "['Hf', 'Pa', 'H', 'Ca', 'Li']"
      ]
     },
     "execution_count": 16,
     "metadata": {},
     "output_type": "execute_result"
    }
   ],
   "source": [
    "evo_mapping_dict['He']"
   ]
  },
  {
   "cell_type": "code",
   "execution_count": 17,
   "metadata": {},
   "outputs": [],
   "source": [
    "def get_encoding(e):\n",
    "    #print(e)\n",
    "    one_hot = np.zeros((92))\n",
    "    elements = evo_mapping_dict[e]\n",
    "    #print(elements)\n",
    "    indices = (df.loc[df['element'].isin(elements), 'atomic_num']-1).tolist()\n",
    "    one_hot[indices] = 1\n",
    "    return one_hot\n"
   ]
  },
  {
   "cell_type": "code",
   "execution_count": 18,
   "metadata": {},
   "outputs": [],
   "source": [
    "def get_atom_label(i):\n",
    "    return df.loc[df['atomic_num'] == i+1, 'element'].tolist()[0]\n"
   ]
  },
  {
   "cell_type": "code",
   "execution_count": 19,
   "metadata": {},
   "outputs": [
    {
     "name": "stdout",
     "output_type": "stream",
     "text": [
      "(92, 92)\n"
     ]
    }
   ],
   "source": [
    "onehot = []\n",
    "for e in df['element']:\n",
    "    onehot.append(get_encoding(e))\n",
    "onehot = np.array(onehot)\n",
    "print(onehot.shape)\n"
   ]
  },
  {
   "cell_type": "code",
   "execution_count": 20,
   "metadata": {},
   "outputs": [
    {
     "name": "stdout",
     "output_type": "stream",
     "text": [
      "['H', 'He', 'Li', 'Be', 'B', 'C', 'N', 'O', 'F', 'Ne', 'Na', 'Mg', 'Al', 'Si', 'P', 'S', 'Cl', 'Ar', 'K', 'Ca', 'Sc', 'Ti', 'V', 'Cr', 'Mn', 'Fe', 'Co', 'Ni', 'Cu', 'Zn', 'Ga', 'Ge', 'As', 'Se', 'Br', 'Kr', 'Rb', 'Sr', 'Y', 'Zr', 'Nb', 'Mo', 'Tc', 'Ru', 'Rh', 'Pd', 'Ag', 'Cd', 'In', 'Sn', 'Sb', 'Te', 'I', 'Xe', 'Cs', 'Ba', 'La', 'Ce', 'Pr', 'Nd', 'Pm', 'Sm', 'Eu', 'Gd', 'Tb', 'Dy', 'Ho', 'Er', 'Tm', 'Yb', 'Lu', 'Hf', 'Ta', 'W', 'Re', 'Os', 'Ir', 'Pt', 'Au', 'Hg', 'Tl', 'Pb', 'Bi', 'Po', 'At', 'Rn', 'Fr', 'Ra', 'Ac', 'Th', 'Pa', 'U']\n"
     ]
    },
    {
     "data": {
      "text/html": [
       "<div>\n",
       "<style scoped>\n",
       "    .dataframe tbody tr th:only-of-type {\n",
       "        vertical-align: middle;\n",
       "    }\n",
       "\n",
       "    .dataframe tbody tr th {\n",
       "        vertical-align: top;\n",
       "    }\n",
       "\n",
       "    .dataframe thead th {\n",
       "        text-align: right;\n",
       "    }\n",
       "</style>\n",
       "<table border=\"1\" class=\"dataframe\">\n",
       "  <thead>\n",
       "    <tr style=\"text-align: right;\">\n",
       "      <th></th>\n",
       "      <th>1</th>\n",
       "      <th>2</th>\n",
       "      <th>3</th>\n",
       "      <th>4</th>\n",
       "      <th>5</th>\n",
       "      <th>6</th>\n",
       "      <th>7</th>\n",
       "      <th>8</th>\n",
       "      <th>9</th>\n",
       "      <th>10</th>\n",
       "      <th>...</th>\n",
       "      <th>83</th>\n",
       "      <th>84</th>\n",
       "      <th>85</th>\n",
       "      <th>86</th>\n",
       "      <th>87</th>\n",
       "      <th>88</th>\n",
       "      <th>89</th>\n",
       "      <th>90</th>\n",
       "      <th>91</th>\n",
       "      <th>92</th>\n",
       "    </tr>\n",
       "  </thead>\n",
       "  <tbody>\n",
       "    <tr>\n",
       "      <th>1</th>\n",
       "      <td>1.0</td>\n",
       "      <td>0.0</td>\n",
       "      <td>0.0</td>\n",
       "      <td>0.0</td>\n",
       "      <td>0.0</td>\n",
       "      <td>0.0</td>\n",
       "      <td>0.0</td>\n",
       "      <td>0.0</td>\n",
       "      <td>0.0</td>\n",
       "      <td>0.0</td>\n",
       "      <td>...</td>\n",
       "      <td>0.0</td>\n",
       "      <td>0.0</td>\n",
       "      <td>0.0</td>\n",
       "      <td>0.0</td>\n",
       "      <td>0.0</td>\n",
       "      <td>0.0</td>\n",
       "      <td>0.0</td>\n",
       "      <td>0.0</td>\n",
       "      <td>0.0</td>\n",
       "      <td>0.0</td>\n",
       "    </tr>\n",
       "    <tr>\n",
       "      <th>2</th>\n",
       "      <td>1.0</td>\n",
       "      <td>0.0</td>\n",
       "      <td>1.0</td>\n",
       "      <td>0.0</td>\n",
       "      <td>0.0</td>\n",
       "      <td>0.0</td>\n",
       "      <td>0.0</td>\n",
       "      <td>0.0</td>\n",
       "      <td>0.0</td>\n",
       "      <td>0.0</td>\n",
       "      <td>...</td>\n",
       "      <td>0.0</td>\n",
       "      <td>0.0</td>\n",
       "      <td>0.0</td>\n",
       "      <td>0.0</td>\n",
       "      <td>0.0</td>\n",
       "      <td>0.0</td>\n",
       "      <td>0.0</td>\n",
       "      <td>0.0</td>\n",
       "      <td>1.0</td>\n",
       "      <td>0.0</td>\n",
       "    </tr>\n",
       "    <tr>\n",
       "      <th>3</th>\n",
       "      <td>0.0</td>\n",
       "      <td>1.0</td>\n",
       "      <td>0.0</td>\n",
       "      <td>0.0</td>\n",
       "      <td>0.0</td>\n",
       "      <td>0.0</td>\n",
       "      <td>0.0</td>\n",
       "      <td>0.0</td>\n",
       "      <td>0.0</td>\n",
       "      <td>0.0</td>\n",
       "      <td>...</td>\n",
       "      <td>0.0</td>\n",
       "      <td>0.0</td>\n",
       "      <td>0.0</td>\n",
       "      <td>0.0</td>\n",
       "      <td>0.0</td>\n",
       "      <td>0.0</td>\n",
       "      <td>0.0</td>\n",
       "      <td>0.0</td>\n",
       "      <td>0.0</td>\n",
       "      <td>0.0</td>\n",
       "    </tr>\n",
       "    <tr>\n",
       "      <th>4</th>\n",
       "      <td>0.0</td>\n",
       "      <td>0.0</td>\n",
       "      <td>1.0</td>\n",
       "      <td>0.0</td>\n",
       "      <td>0.0</td>\n",
       "      <td>0.0</td>\n",
       "      <td>0.0</td>\n",
       "      <td>0.0</td>\n",
       "      <td>0.0</td>\n",
       "      <td>0.0</td>\n",
       "      <td>...</td>\n",
       "      <td>0.0</td>\n",
       "      <td>0.0</td>\n",
       "      <td>0.0</td>\n",
       "      <td>0.0</td>\n",
       "      <td>0.0</td>\n",
       "      <td>0.0</td>\n",
       "      <td>0.0</td>\n",
       "      <td>0.0</td>\n",
       "      <td>0.0</td>\n",
       "      <td>0.0</td>\n",
       "    </tr>\n",
       "    <tr>\n",
       "      <th>5</th>\n",
       "      <td>0.0</td>\n",
       "      <td>0.0</td>\n",
       "      <td>0.0</td>\n",
       "      <td>1.0</td>\n",
       "      <td>0.0</td>\n",
       "      <td>0.0</td>\n",
       "      <td>0.0</td>\n",
       "      <td>0.0</td>\n",
       "      <td>0.0</td>\n",
       "      <td>0.0</td>\n",
       "      <td>...</td>\n",
       "      <td>0.0</td>\n",
       "      <td>0.0</td>\n",
       "      <td>0.0</td>\n",
       "      <td>0.0</td>\n",
       "      <td>0.0</td>\n",
       "      <td>0.0</td>\n",
       "      <td>0.0</td>\n",
       "      <td>0.0</td>\n",
       "      <td>0.0</td>\n",
       "      <td>0.0</td>\n",
       "    </tr>\n",
       "  </tbody>\n",
       "</table>\n",
       "<p>5 rows × 92 columns</p>\n",
       "</div>"
      ],
      "text/plain": [
       "    1    2    3    4    5    6    7    8    9    10  ...   83   84   85   86  \\\n",
       "1  1.0  0.0  0.0  0.0  0.0  0.0  0.0  0.0  0.0  0.0  ...  0.0  0.0  0.0  0.0   \n",
       "2  1.0  0.0  1.0  0.0  0.0  0.0  0.0  0.0  0.0  0.0  ...  0.0  0.0  0.0  0.0   \n",
       "3  0.0  1.0  0.0  0.0  0.0  0.0  0.0  0.0  0.0  0.0  ...  0.0  0.0  0.0  0.0   \n",
       "4  0.0  0.0  1.0  0.0  0.0  0.0  0.0  0.0  0.0  0.0  ...  0.0  0.0  0.0  0.0   \n",
       "5  0.0  0.0  0.0  1.0  0.0  0.0  0.0  0.0  0.0  0.0  ...  0.0  0.0  0.0  0.0   \n",
       "\n",
       "    87   88   89   90   91   92  \n",
       "1  0.0  0.0  0.0  0.0  0.0  0.0  \n",
       "2  0.0  0.0  0.0  0.0  1.0  0.0  \n",
       "3  0.0  0.0  0.0  0.0  0.0  0.0  \n",
       "4  0.0  0.0  0.0  0.0  0.0  0.0  \n",
       "5  0.0  0.0  0.0  0.0  0.0  0.0  \n",
       "\n",
       "[5 rows x 92 columns]"
      ]
     },
     "execution_count": 20,
     "metadata": {},
     "output_type": "execute_result"
    }
   ],
   "source": [
    "# Create a DataFrame with the connection data\n",
    "onehot_df = pd.DataFrame(onehot, columns=range(1, 93), index=range(1, 93))\n",
    "\n",
    "labels = list(df['element'])\n",
    "print(labels)\n",
    "\n",
    "onehot_df.head()\n"
   ]
  },
  {
   "cell_type": "code",
   "execution_count": 21,
   "metadata": {},
   "outputs": [
    {
     "name": "stdout",
     "output_type": "stream",
     "text": [
      "      source  target  value color source_element target_element\n",
      "1866      21      27    1.0   5.0             Sc             Co\n",
      "1840      21       1    1.0   5.0             Sc              H\n",
      "1906      21      67    1.0   5.0             Sc             Ho\n",
      "1930      21      91    1.0   5.0             Sc             Pa\n",
      "92         2       1    1.0   5.0             He              H\n"
     ]
    }
   ],
   "source": [
    "# Compute the number of connections for each element\n",
    "num_connections = onehot_df.sum(axis=1)\n",
    "\n",
    "# Create the source data for the chord diagram\n",
    "data = onehot_df.stack().reset_index()\n",
    "data.columns = ['source', 'target', 'value']\n",
    "color = [str(num_connections[i]) for i in data['source']]\n",
    "data['color'] = color\n",
    "\n",
    "# Create a dictionary to map the atomic numbers to element names\n",
    "atomic_number_to_element = {row[0]: row[1] for row in evo_table}\n",
    "\n",
    "# Map the atomic numbers to element names in the data DataFrame\n",
    "data['source_element'] = data['source'].map(atomic_number_to_element)\n",
    "data['target_element'] = data['target'].map(atomic_number_to_element)\n",
    "\n",
    "data = data[data['value'] != 0]\n",
    "data = data.sort_values(by=['color'], ascending=False) # sort by the num-connections (outgoing), decreasing order\n",
    "print(data.head())"
   ]
  },
  {
   "cell_type": "code",
   "execution_count": 22,
   "metadata": {},
   "outputs": [],
   "source": [
    "onehot_df.to_csv('./onehot_df.csv')\n",
    "\n",
    "onehot_df.to_json('./onehot_df.json')\n"
   ]
  },
  {
   "cell_type": "code",
   "execution_count": 23,
   "metadata": {},
   "outputs": [
    {
     "ename": "Exception",
     "evalue": "{'reason': 'Authentication failed. Please check your license details or get one from https://plotapi.com.'}",
     "output_type": "error",
     "traceback": [
      "\u001b[1;31m---------------------------------------------------------------------------\u001b[0m",
      "\u001b[1;31mException\u001b[0m                                 Traceback (most recent call last)",
      "\u001b[1;32md:\\Master's Stuff Aditya\\SWP Algorithms\\swp_graph\\conway graph\\noob_chord_py.ipynb Cell 12\u001b[0m in \u001b[0;36m<cell line: 3>\u001b[1;34m()\u001b[0m\n\u001b[0;32m      <a href='vscode-notebook-cell:/d%3A/Master%27s%20Stuff%20Aditya/SWP%20Algorithms/swp_graph/conway%20graph/noob_chord_py.ipynb#X14sZmlsZQ%3D%3D?line=0'>1</a>\u001b[0m \u001b[39mfrom\u001b[39;00m \u001b[39mchord\u001b[39;00m \u001b[39mimport\u001b[39;00m Chord\n\u001b[1;32m----> <a href='vscode-notebook-cell:/d%3A/Master%27s%20Stuff%20Aditya/SWP%20Algorithms/swp_graph/conway%20graph/noob_chord_py.ipynb#X14sZmlsZQ%3D%3D?line=2'>3</a>\u001b[0m Chord(onehot_df\u001b[39m.\u001b[39;49mto_numpy()\u001b[39m.\u001b[39;49mtolist(), names\u001b[39m=\u001b[39;49mlabels)\u001b[39m.\u001b[39;49mto_html(\u001b[39m'\u001b[39;49m\u001b[39m./chord_py.html\u001b[39;49m\u001b[39m'\u001b[39;49m)\n",
      "File \u001b[1;32mc:\\Users\\Aditiya\\miniconda3\\envs\\manhattan\\lib\\site-packages\\chord\\__init__.py:146\u001b[0m, in \u001b[0;36mVisualisation.to_html\u001b[1;34m(self, filename)\u001b[0m\n\u001b[0;32m    144\u001b[0m \u001b[39mdef\u001b[39;00m \u001b[39mto_html\u001b[39m(\u001b[39mself\u001b[39m, filename\u001b[39m=\u001b[39m\u001b[39m\"\u001b[39m\u001b[39mout.html\u001b[39m\u001b[39m\"\u001b[39m):\n\u001b[0;32m    145\u001b[0m     \u001b[39m\"\"\"Outputs the generated HTML to a HTML file.\"\"\"\u001b[39;00m\n\u001b[1;32m--> 146\u001b[0m     html \u001b[39m=\u001b[39m \u001b[39mself\u001b[39;49m\u001b[39m.\u001b[39;49mget_html()\n\u001b[0;32m    147\u001b[0m     file \u001b[39m=\u001b[39m \u001b[39mopen\u001b[39m(filename, \u001b[39m\"\u001b[39m\u001b[39mw\u001b[39m\u001b[39m\"\u001b[39m, encoding\u001b[39m=\u001b[39m\u001b[39m\"\u001b[39m\u001b[39mutf-8\u001b[39m\u001b[39m\"\u001b[39m)\n\u001b[0;32m    148\u001b[0m     file\u001b[39m.\u001b[39mwrite(html)\n",
      "File \u001b[1;32mc:\\Users\\Aditiya\\miniconda3\\envs\\manhattan\\lib\\site-packages\\chord\\__init__.py:87\u001b[0m, in \u001b[0;36mVisualisation.get_html\u001b[1;34m(self)\u001b[0m\n\u001b[0;32m     85\u001b[0m \u001b[39melse\u001b[39;00m:\n\u001b[0;32m     86\u001b[0m     detail \u001b[39m=\u001b[39m json\u001b[39m.\u001b[39mloads(result\u001b[39m.\u001b[39mcontent\u001b[39m.\u001b[39mdecode(\u001b[39m\"\u001b[39m\u001b[39mutf8\u001b[39m\u001b[39m\"\u001b[39m))\n\u001b[1;32m---> 87\u001b[0m     \u001b[39mraise\u001b[39;00m \u001b[39mException\u001b[39;00m(detail)\n",
      "\u001b[1;31mException\u001b[0m: {'reason': 'Authentication failed. Please check your license details or get one from https://plotapi.com.'}"
     ]
    }
   ],
   "source": [
    "from chord import Chord\n",
    "\n",
    "Chord(onehot_df.to_numpy().tolist(), names=labels).to_html('./chord_py.html')"
   ]
  },
  {
   "attachments": {},
   "cell_type": "markdown",
   "metadata": {},
   "source": [
    "requires a license :("
   ]
  },
  {
   "attachments": {},
   "cell_type": "markdown",
   "metadata": {},
   "source": [
    "But we can use the d3blocks library (https://d3blocks.github.io/d3blocks/pages/html/Chord.html)"
   ]
  },
  {
   "cell_type": "code",
   "execution_count": 24,
   "metadata": {},
   "outputs": [
    {
     "data": {
      "text/html": [
       "<div>\n",
       "<style scoped>\n",
       "    .dataframe tbody tr th:only-of-type {\n",
       "        vertical-align: middle;\n",
       "    }\n",
       "\n",
       "    .dataframe tbody tr th {\n",
       "        vertical-align: top;\n",
       "    }\n",
       "\n",
       "    .dataframe thead th {\n",
       "        text-align: right;\n",
       "    }\n",
       "</style>\n",
       "<table border=\"1\" class=\"dataframe\">\n",
       "  <thead>\n",
       "    <tr style=\"text-align: right;\">\n",
       "      <th></th>\n",
       "      <th>source</th>\n",
       "      <th>target</th>\n",
       "      <th>weight</th>\n",
       "    </tr>\n",
       "  </thead>\n",
       "  <tbody>\n",
       "    <tr>\n",
       "      <th>0</th>\n",
       "      <td>Sc</td>\n",
       "      <td>Co</td>\n",
       "      <td>5.0</td>\n",
       "    </tr>\n",
       "    <tr>\n",
       "      <th>1</th>\n",
       "      <td>Sc</td>\n",
       "      <td>H</td>\n",
       "      <td>5.0</td>\n",
       "    </tr>\n",
       "    <tr>\n",
       "      <th>2</th>\n",
       "      <td>Sc</td>\n",
       "      <td>Ho</td>\n",
       "      <td>5.0</td>\n",
       "    </tr>\n",
       "    <tr>\n",
       "      <th>3</th>\n",
       "      <td>Sc</td>\n",
       "      <td>Pa</td>\n",
       "      <td>5.0</td>\n",
       "    </tr>\n",
       "    <tr>\n",
       "      <th>4</th>\n",
       "      <td>He</td>\n",
       "      <td>H</td>\n",
       "      <td>5.0</td>\n",
       "    </tr>\n",
       "  </tbody>\n",
       "</table>\n",
       "</div>"
      ],
      "text/plain": [
       "  source target weight\n",
       "0     Sc     Co    5.0\n",
       "1     Sc      H    5.0\n",
       "2     Sc     Ho    5.0\n",
       "3     Sc     Pa    5.0\n",
       "4     He      H    5.0"
      ]
     },
     "execution_count": 24,
     "metadata": {},
     "output_type": "execute_result"
    }
   ],
   "source": [
    "plot_data = data[['source_element', 'target_element', 'color']]\n",
    "\n",
    "plot_data = plot_data.reset_index(\n",
    ")[['source_element', 'target_element', 'color']]\n",
    "\n",
    "plot_data.rename(columns={'source_element': 'source', 'target_element': 'target', 'color': 'weight'}, inplace=True)\n",
    "\n",
    "plot_data.head()"
   ]
  },
  {
   "cell_type": "code",
   "execution_count": 38,
   "metadata": {},
   "outputs": [
    {
     "name": "stderr",
     "output_type": "stream",
     "text": [
      "[d3blocks] >INFO> Cleaning edge_properties and config parameters..\n",
      "[d3blocks] >INFO> Initializing [Chord]\n",
      "[d3blocks] >INFO> filepath is set to [C:\\Users\\Aditiya\\AppData\\Local\\Temp\\d3blocks\\chord.html]\n",
      "[d3blocks] >INFO> Node properties are set.\n",
      "[d3blocks] >INFO> Convert to Dictionary.\n",
      "[d3blocks] >INFO> Edge properties are set.\n",
      "[d3blocks] >INFO> File already exists and will be overwritten: [C:\\Users\\Aditiya\\AppData\\Local\\Temp\\d3blocks\\chord.html]\n",
      "[d3blocks] >INFO> Open browser: C:\\Users\\Aditiya\\AppData\\Local\\Temp\\d3blocks\\chord.html\n"
     ]
    }
   ],
   "source": [
    "# Chord plot weighted by the number of connections\n",
    "from d3blocks import D3Blocks\n",
    "\n",
    "d3 = D3Blocks(chart='Chord', frame=False)\n",
    "d3.set_node_properties(plot_data, opacity=0.9, cmap='tab20')\n",
    "d3.set_edge_properties(plot_data, color='source', opacity=0.6)\n",
    "\n",
    "d3.show()\n",
    "\n",
    "# d3.chord(df=plot_data, filepath='./chord_py_d3_weighted.html')"
   ]
  },
  {
   "cell_type": "code",
   "execution_count": 30,
   "metadata": {},
   "outputs": [
    {
     "name": "stderr",
     "output_type": "stream",
     "text": [
      "[d3blocks] >INFO> Cleaning edge_properties and config parameters..\n",
      "[d3blocks] >INFO> Initializing [Chord]\n",
      "[d3blocks] >INFO> filepath is set to [d:\\Master's Stuff Aditya\\SWP Algorithms\\swp_graph\\conway graph\\chord_py_d3_unweighted.html]\n",
      "[d3blocks] >INFO> Node properties are set.\n",
      "[d3blocks] >INFO> Set edge-opacity based on the [source] node-opacity.\n",
      "[d3blocks] >INFO> Set edge-colors based on the [source] node-color.\n",
      "[d3blocks] >INFO> Convert to Dictionary.\n",
      "[d3blocks] >INFO> Edge properties are set.\n",
      "[d3blocks] >INFO> File already exists and will be overwritten: [d:\\Master's Stuff Aditya\\SWP Algorithms\\swp_graph\\conway graph\\chord_py_d3_unweighted.html]\n",
      "[d3blocks] >INFO> Open browser: d:\\Master's Stuff Aditya\\SWP Algorithms\\swp_graph\\conway graph\\chord_py_d3_unweighted.html\n"
     ]
    }
   ],
   "source": [
    "# Unweighted chord plot\n",
    "plot_data['weight'] = 1\n",
    "\n",
    "d3.chord(df=plot_data, filepath='./chord_py_d3_unweighted.html')"
   ]
  },
  {
   "cell_type": "code",
   "execution_count": null,
   "metadata": {},
   "outputs": [],
   "source": []
  }
 ],
 "metadata": {
  "kernelspec": {
   "display_name": "manhattan",
   "language": "python",
   "name": "python3"
  },
  "language_info": {
   "codemirror_mode": {
    "name": "ipython",
    "version": 3
   },
   "file_extension": ".py",
   "mimetype": "text/x-python",
   "name": "python",
   "nbconvert_exporter": "python",
   "pygments_lexer": "ipython3",
   "version": "3.10.8"
  },
  "orig_nbformat": 4
 },
 "nbformat": 4,
 "nbformat_minor": 2
}
